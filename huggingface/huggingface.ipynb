{
 "cells": [
  {
   "cell_type": "code",
   "execution_count": 19,
   "metadata": {},
   "outputs": [],
   "source": [
    "from langchain_community.document_loaders import PyPDFLoader\n",
    "from langchain_community.document_loaders import PyPDFDirectoryLoader\n",
    "from langchain.text_splitter import RecursiveCharacterTextSplitter\n",
    "from langchain_community.vectorstores import FAISS\n",
    "from langchain.prompts import PromptTemplate\n",
    "from langchain.chains import RetrievalQA\n",
    "from langchain.chains import VectorDBQA"
   ]
  },
  {
   "cell_type": "code",
   "execution_count": 20,
   "metadata": {},
   "outputs": [
    {
     "data": {
      "text/plain": [
       "316"
      ]
     },
     "execution_count": 20,
     "metadata": {},
     "output_type": "execute_result"
    }
   ],
   "source": [
    "## Read the PDFs from the folder\n",
    "loader=PyPDFDirectoryLoader(\"./us_census\")\n",
    "documents=loader.load()\n",
    "text_splitter=RecursiveCharacterTextSplitter(chunk_size=1000,chunk_overlap=200)\n",
    "final_documents=text_splitter.split_documents(documents)\n",
    "len(final_documents)"
   ]
  },
  {
   "cell_type": "code",
   "execution_count": 21,
   "metadata": {},
   "outputs": [],
   "source": [
    "## Embedding Using Huggingface\n",
    "from langchain_huggingface import HuggingFaceEmbeddings\n",
    "\n",
    "huggingface_embeddings = HuggingFaceEmbeddings(\n",
    "    model_name=\"BAAI/bge-small-en-v1.5\",\n",
    "    model_kwargs={'device': 'cpu'},\n",
    "    encode_kwargs={'normalize_embeddings': True}\n",
    ")"
   ]
  },
  {
   "cell_type": "code",
   "execution_count": 22,
   "metadata": {},
   "outputs": [
    {
     "name": "stdout",
     "output_type": "stream",
     "text": [
      "(384,)\n"
     ]
    }
   ],
   "source": [
    "import  numpy as np\n",
    "print(np.array(huggingface_embeddings.embed_query(final_documents[0].page_content)).shape)"
   ]
  },
  {
   "cell_type": "code",
   "execution_count": 23,
   "metadata": {},
   "outputs": [],
   "source": [
    "## VectorStore Creation\n",
    "vectorstore=FAISS.from_documents(final_documents[:120],huggingface_embeddings)"
   ]
  },
  {
   "cell_type": "code",
   "execution_count": 24,
   "metadata": {},
   "outputs": [
    {
     "name": "stdout",
     "output_type": "stream",
     "text": [
      "2 U.S. Census Bureau\n",
      "WHAT IS HEALTH INSURANCE COVERAGE?\n",
      "This brief presents state-level estimates of health insurance coverage \n",
      "using data from the American Community Survey (ACS). The  \n",
      "U.S. Census Bureau conducts the ACS throughout the year; the \n",
      "survey asks respondents to report their coverage at the time of \n",
      "interview. The resulting measure of health insurance coverage, \n",
      "therefore, reflects an annual average of current comprehensive \n",
      "health insurance coverage status.* This uninsured rate measures a \n",
      "different concept than the measure based on the Current Population \n",
      "Survey Annual Social and Economic Supplement (CPS ASEC). \n",
      "For reporting purposes, the ACS broadly classifies health insurance \n",
      "coverage as private insurance or public insurance. The ACS defines \n",
      "private health insurance as a plan provided through an employer \n",
      "or a union, coverage purchased directly by an individual from an \n",
      "insurance company or through an exchange (such as healthcare.\n"
     ]
    }
   ],
   "source": [
    "query=\"WHAT IS HEALTH INSURANCE COVERAGE?\"\n",
    "relevant_docments=vectorstore.similarity_search(query)\n",
    "\n",
    "print(relevant_docments[0].page_content)"
   ]
  },
  {
   "cell_type": "code",
   "execution_count": 25,
   "metadata": {},
   "outputs": [
    {
     "name": "stdout",
     "output_type": "stream",
     "text": [
      "tags=['FAISS', 'HuggingFaceEmbeddings'] vectorstore=<langchain_community.vectorstores.faiss.FAISS object at 0x000001E2D440B350> search_kwargs={'k': 3}\n"
     ]
    }
   ],
   "source": [
    "retriever=vectorstore.as_retriever(search_type=\"similarity\",search_kwargs={\"k\":3})\n",
    "print(retriever)"
   ]
  },
  {
   "cell_type": "code",
   "execution_count": 26,
   "metadata": {},
   "outputs": [],
   "source": [
    "import os\n",
    "from dotenv import load_dotenv\n",
    "load_dotenv()\n",
    "os.environ[\"HUGGINGFACEHUB_API_TOKEN\"] = os.getenv(\"HUGGINGFACEHUB_API_TOKEN\")\n",
    "os.environ['MISTRAL_API_KEY']=os.getenv(\"MISTRAL_API_KEY\")"
   ]
  },
  {
   "cell_type": "code",
   "execution_count": 27,
   "metadata": {},
   "outputs": [],
   "source": [
    "# from langchain_mistralai import ChatMistralAI\n",
    "\n",
    "# llm = ChatMistralAI(\n",
    "#     model=\"mistral-large-latest\",\n",
    "#     temperature=0,\n",
    "#     max_retries=2,\n",
    "# )\n",
    "\n",
    "# query = \"What is the health insurance coverage?\"\n",
    "# response = llm.invoke(query)\n",
    "# print(response)\n"
   ]
  },
  {
   "cell_type": "code",
   "execution_count": 28,
   "metadata": {},
   "outputs": [
    {
     "name": "stderr",
     "output_type": "stream",
     "text": [
      "c:\\Satyam_rai\\Projects\\venv\\Lib\\site-packages\\huggingface_hub\\utils\\_deprecation.py:131: FutureWarning: 'post' (from 'huggingface_hub.inference._client') is deprecated and will be removed from version '0.31.0'. Making direct POST requests to the inference server is not supported anymore. Please use task methods instead (e.g. `InferenceClient.chat_completion`). If your use case is not supported, please open an issue in https://github.com/huggingface/huggingface_hub.\n",
      "  warnings.warn(warning_message, FutureWarning)\n"
     ]
    },
    {
     "data": {
      "text/plain": [
       "'What is the health insurance coverage?\\n\\nThe health insurance coverage is a form of insurance that covers the health of the individual. The health insurance coverage is a form of insurance that covers the health of the individual. The health insurance coverage is a form of insurance that covers the health of the individual. The health insurance coverage is a form of insurance that covers the health of the individual. The health insurance coverage is a form of insurance that covers the health of the individual. The health insurance coverage is a form of insurance that covers the health of the individual. The health insurance coverage is a form of insurance that covers the health of the individual. The health insurance coverage is a form of insurance that covers the health of the individual. The health insurance coverage is a form of insurance that covers the health of the individual. The health insurance coverage is a form of insurance that covers the health of the individual. The health insurance coverage is a form of insurance that covers the health of the individual. The health insurance coverage is a form of insurance that covers the health of the individual. The health insurance coverage is a form of insurance that covers the health of the individual. The health insurance coverage is a form of insurance that covers the health of the individual. The health insurance coverage is a form of insurance that covers the health of the individual. The health insurance coverage is a form of insurance that covers the health of the individual. The health insurance coverage is a form of insurance that covers the health of the individual. The health insurance coverage is a form of insurance that covers the health of the individual. The health insurance coverage is a form of insurance that covers the health of the individual. The health insurance coverage is a form of insurance that covers the health of the individual. The health insurance coverage is a form of insurance that covers the health of the individual. The health insurance coverage is a form of insurance that covers the health of the individual. The health insurance coverage is a form of insurance that covers the health of the individual. The health insurance coverage is a form of insurance that covers the health of the individual. The health insurance coverage is a form of insurance that covers the health of the individual. The health insurance coverage is a form of insurance that covers the health of the individual. The health insurance coverage is a form of insurance that covers the health of the individual. The health insurance coverage is a form of insurance that covers the health of the individual. The health insurance coverage is a form of insurance that covers the health of the individual. The health insurance coverage is a form of insurance that covers the health of the individual. The health insurance coverage is a form of insurance that covers the health of the individual. The health insurance coverage is a form of insurance that covers the health of the individual. The health insurance coverage is a form of insurance that covers the health of the individual. The health insurance coverage is a form of insurance that covers the health of the individual. The health insurance coverage is a form of insurance that covers the health of the individual. The health insurance coverage is a form of insurance that covers the health of the individual. The health insurance coverage is a form of insurance that covers the health of the individual. The health insurance coverage is a form of insurance that covers the health of the individual. The health insurance coverage is a form of insurance that covers the health of the individual. The health insurance coverage is a form of insurance that covers the health of the individual. The health insurance coverage is a form of insurance that covers the health of the individual. The health insurance coverage is a form of insurance that covers the health of the individual. The health insurance coverage is a form of insurance that covers the health of the individual. The health insurance coverage is a form of insurance that covers the health of the individual. The health insurance coverage is a form of insurance that covers the health of the individual. The health insurance coverage is a form of insurance that covers the health of the individual. The health insurance coverage is a form of insurance that covers the health of the individual. The health insurance coverage is a form of insurance that covers the health of the individual. The health insurance coverage is a form of insurance that covers the health of the individual. The health insurance coverage is a form of insurance that covers the health of the individual. The health insurance coverage is a form of insurance that covers the health of the individual. The health insurance coverage is a form of insurance that covers the health of the individual. The health insurance coverage is a form of insurance that covers the health of the individual. The health insurance coverage is a form of insurance that covers the health of the individual. The health insurance coverage is a form of insurance that covers the health of the individual. The health insurance coverage is a form of insurance that covers the health of the individual. The health insurance coverage is a form of insurance that covers the health of the individual. The health insurance coverage is a form of insurance that covers the health of the individual. The health insurance coverage is a form of insurance that covers the health of the individual. The health insurance coverage is a form of insurance that covers the health of the individual. The health insurance coverage is a form of insurance that covers the health of the individual. The health insurance coverage is a form of insurance that covers the health of the individual. The health insurance coverage is a form of insurance that covers the health of the individual. The health insurance coverage is a form of insurance that covers the health of the individual. The health insurance coverage is a form of insurance that covers the health of the individual. The health insurance coverage is a form of insurance that covers the health of the individual. The health insurance coverage is a form of insurance that covers the health of the individual. The health insurance coverage is a form of insurance that covers the health of the individual. The health insurance coverage is a form of insurance that covers the health of the individual. The health insurance coverage is a form of insurance that covers the health of the individual. The health insurance coverage is a form of insurance that covers the health of the individual. The health insurance coverage is a form of insurance that covers the health of the individual. The health insurance coverage is a form of insurance that covers the health of the individual. The health insurance coverage is a form of insurance that covers the health of the individual. The health insurance coverage is a form of insurance that covers the health of the individual. The health insurance coverage is a form of insurance that covers the health of the individual. The health insurance coverage is a form of insurance that covers the health of the individual. The health insurance coverage is a form of insurance that covers the health of the individual. The health insurance coverage is a form of insurance that covers the health of the individual. The health insurance coverage is a form of insurance that covers the health of the individual. The health insurance coverage is a form of insurance that covers the health of the individual. The health insurance coverage is a form of insurance that covers the health of the individual. The health insurance coverage is a form of insurance that covers the health of the individual. The health insurance coverage is a form of insurance that covers the health of the individual. The health insurance coverage is a form of insurance that covers the health of the individual. The health insurance coverage is a form of insurance that covers the health of the individual. The health insurance coverage is a form of insurance that covers the health of the individual. The health insurance coverage is a form of insurance that covers the health of the individual. The health insurance coverage is a form of insurance that covers the health of the individual. The health insurance coverage is a form of insurance that covers the health of the individual. The health insurance coverage is a form of insurance that covers the health of the individual. The health insurance coverage is a form of insurance that covers the health of the individual. The health insurance coverage is a form of insurance that covers the health of the individual. The health insurance coverage is a form of insurance that covers the health of the individual. The health insurance coverage is a form of insurance that covers the health of the individual. The health insurance coverage is a form of insurance that covers the health of the individual. The health insurance coverage is a form of insurance that covers the health of the individual. The health insurance coverage is a form of insurance that covers the health of the individual. The health insurance coverage is a form of insurance that covers the health of the individual. The health insurance coverage is a form of insurance that covers the health of the individual. The health insurance coverage is a form of insurance that covers the health of the individual. The health insurance coverage is a form of insurance that covers the health of the individual. The health insurance coverage is a form of insurance that covers the health of the individual. The health insurance coverage is a form of insurance that covers the health of the individual. The health insurance coverage is a form of insurance that covers the health of the individual. The health insurance coverage is a form of insurance that covers the health of the individual. The health insurance coverage is a form of insurance that covers the health of the individual. The health insurance coverage is a form of insurance that covers the health of the individual. The health insurance coverage is a form of insurance that covers the health of the individual. The health insurance coverage is a form of insurance that covers the health of the individual. The health insurance coverage is a form of insurance that covers the health of the individual. The health insurance coverage is a form of insurance that covers the health of the individual. The health insurance coverage is a form of insurance that covers the health of the individual. The health insurance coverage is a form of insurance that covers the health of the individual. The health insurance coverage is a form of insurance that covers the health of the individual. The health insurance coverage is a form of insurance that covers the health of the individual. The health insurance coverage is a form of insurance that covers the health of the individual. The health insurance coverage is a form of insurance that covers the health of the individual. The health insurance coverage is a form of insurance that covers the health of the individual. The health insurance coverage is a form of insurance that covers the health of the individual'"
      ]
     },
     "execution_count": 28,
     "metadata": {},
     "output_type": "execute_result"
    }
   ],
   "source": [
    "from langchain import HuggingFaceHub\n",
    "\n",
    "hf=HuggingFaceHub(\n",
    "    repo_id=\"EleutherAI/gpt-neo-125M\",\n",
    "    huggingfacehub_api_token=os.getenv(\"HUGGINGFACEHUB_API_TOKEN\"),\n",
    "    model_kwargs={\"temperature\":0.1,\"max_length\":500}\n",
    ")\n",
    "query=\"What is the health insurance coverage?\"\n",
    "hf.invoke(query)"
   ]
  },
  {
   "cell_type": "code",
   "execution_count": 29,
   "metadata": {},
   "outputs": [
    {
     "name": "stderr",
     "output_type": "stream",
     "text": [
      "c:\\Satyam_rai\\Projects\\venv\\Lib\\site-packages\\huggingface_hub\\file_download.py:142: UserWarning: `huggingface_hub` cache-system uses symlinks by default to efficiently store duplicated files but your machine does not support them in C:\\Users\\rais\\.cache\\huggingface\\hub\\models--EleutherAI--gpt-neo-125M. Caching files will still work but in a degraded version that might require more space on your disk. This warning can be disabled by setting the `HF_HUB_DISABLE_SYMLINKS_WARNING` environment variable. For more details, see https://huggingface.co/docs/huggingface_hub/how-to-cache#limitations.\n",
      "To support symlinks on Windows, you either need to activate Developer Mode or to run Python as an administrator. In order to activate developer mode, see this article: https://docs.microsoft.com/en-us/windows/apps/get-started/enable-your-device-for-development\n",
      "  warnings.warn(message)\n",
      "Device set to use cpu\n",
      "c:\\Satyam_rai\\Projects\\venv\\Lib\\site-packages\\transformers\\generation\\configuration_utils.py:628: UserWarning: `do_sample` is set to `False`. However, `temperature` is set to `0.1` -- this flag is only used in sample-based generation modes. You should set `do_sample=True` or unset `temperature`.\n",
      "  warnings.warn(\n"
     ]
    },
    {
     "name": "stdout",
     "output_type": "stream",
     "text": [
      "What is the health insurance coverage?\n",
      "\n",
      "The health insurance coverage is a form of insurance that covers the health of the individual. The health insurance coverage is a form of insurance that covers the health of the individual. The health insurance coverage is a form of insurance that covers the health of the individual. The health insurance coverage is a form of insurance that covers the health of the individual. The health insurance coverage is a form of insurance that covers the health of the individual. The health insurance coverage is a form of insurance that covers the health of the individual. The health insurance coverage is a form of insurance that covers the health of the individual. The health insurance coverage is a form of insurance that covers the health of the individual. The health insurance coverage is a form of insurance that covers the health of the individual. The health insurance coverage is a form of insurance that covers the health of the individual. The health insurance coverage is a form of insurance that covers the health of the individual. The health insurance coverage is a form of insurance that covers the health of the individual. The health insurance coverage is a form of insurance that covers the health of the individual. The health insurance coverage is a form of insurance that covers the health of the individual. The health insurance coverage is a form of insurance that covers the health of the individual. The health insurance coverage is a form of insurance that covers the health of the individual. The health insurance coverage is a form of insurance that covers the health of the individual. The health insurance coverage is a form of insurance that covers the health of the individual. The health insurance coverage is a form of insurance that covers the health of the individual. The health insurance coverage is a form of insurance that covers the health of the individual. The health insurance coverage is a form of insurance that covers the health of the individual. The health insurance coverage is a form of insurance that covers the health of the individual. The health insurance coverage is a form of insurance that covers the health of the individual. The health insurance coverage is a form of insurance that covers the health of the individual. The health insurance coverage is a form of insurance that covers the health of the individual. The health insurance coverage is a form of insurance that covers the health of the individual. The health insurance coverage is a form of insurance that covers the health of the individual. The health insurance coverage is a form of insurance that covers the health of the individual. The health insurance coverage is a form of insurance that covers the health of the individual. The health insurance coverage is a form of insurance that covers the health of the individual.\n"
     ]
    }
   ],
   "source": [
    "from langchain_huggingface.llms import HuggingFacePipeline\n",
    "\n",
    "hf = HuggingFacePipeline.from_model_id(\n",
    "    model_id=\"EleutherAI/gpt-neo-125M\",\n",
    "    task=\"text-generation\",\n",
    "    pipeline_kwargs={\n",
    "        \"max_new_tokens\": 512,\n",
    "        \"temperature\": 0.1,\n",
    "    },\n",
    ")\n",
    "\n",
    "llm = hf\n",
    "response = llm.invoke(query)\n",
    "print(response)"
   ]
  },
  {
   "cell_type": "code",
   "execution_count": 30,
   "metadata": {},
   "outputs": [],
   "source": [
    "prompt_template=\"\"\"\n",
    "Use the following piece of context to answer the question asked.\n",
    "Please try to provide the answer only based on the context\n",
    "\n",
    "{context}\n",
    "Question:{question}\n",
    "\n",
    "Helpful Answers:\n",
    " \"\"\""
   ]
  },
  {
   "cell_type": "code",
   "execution_count": 31,
   "metadata": {},
   "outputs": [],
   "source": [
    "prompt=PromptTemplate(template=prompt_template,input_variables=[\"context\",\"question\"])"
   ]
  },
  {
   "cell_type": "code",
   "execution_count": 32,
   "metadata": {},
   "outputs": [],
   "source": [
    "# retrievalQA = RetrievalQA.from_chain_type(\n",
    "#     llm=hf,\n",
    "#     chain_type=\"stuff\",\n",
    "#     retriever=retriever,\n",
    "#     return_source_documents=True,\n",
    "#     chain_type_kwargs={\"prompt\":prompt}\n",
    "# )"
   ]
  },
  {
   "cell_type": "code",
   "execution_count": 33,
   "metadata": {},
   "outputs": [
    {
     "name": "stderr",
     "output_type": "stream",
     "text": [
      "c:\\Satyam_rai\\Projects\\venv\\Lib\\site-packages\\langchain\\chains\\retrieval_qa\\base.py:316: UserWarning: `VectorDBQA` is deprecated - please use `from langchain.chains import RetrievalQA`\n",
      "  warnings.warn(\n"
     ]
    }
   ],
   "source": [
    "qa_chain = VectorDBQA.from_chain_type(\n",
    "    llm=hf,\n",
    "    chain_type=\"stuff\",                # same as your RetrievalQA\n",
    "    vectorstore=vectorstore,           # pass in your FAISS vectorstore\n",
    "    return_source_documents=True,      # same flag\n",
    "    chain_type_kwargs={\"prompt\": prompt}\n",
    ")"
   ]
  },
  {
   "cell_type": "code",
   "execution_count": 34,
   "metadata": {},
   "outputs": [],
   "source": [
    "query=\"\"\"DIFFERENCES IN THE\n",
    "UNINSURED RATE BY STATE\n",
    "IN 2022\"\"\""
   ]
  },
  {
   "cell_type": "code",
   "execution_count": 35,
   "metadata": {},
   "outputs": [
    {
     "name": "stderr",
     "output_type": "stream",
     "text": [
      "c:\\Satyam_rai\\Projects\\venv\\Lib\\site-packages\\transformers\\generation\\configuration_utils.py:628: UserWarning: `do_sample` is set to `False`. However, `temperature` is set to `0.1` -- this flag is only used in sample-based generation modes. You should set `do_sample=True` or unset `temperature`.\n",
      "  warnings.warn(\n"
     ]
    },
    {
     "name": "stdout",
     "output_type": "stream",
     "text": [
      "\n",
      "Use the following piece of context to answer the question asked.\n",
      "Please try to provide the answer only based on the context\n",
      "\n",
      "percent (Appendix Table B-5). \n",
      "Medicaid coverage accounted \n",
      "for a portion of that difference. \n",
      "Medicaid coverage was 22.7 per-\n",
      "cent in the group of states that \n",
      "expanded Medicaid eligibility and \n",
      "18.0 percent in the group of nonex-\n",
      "pansion states.\n",
      "CHANGES IN THE UNINSURED \n",
      "RATE BY STATE FROM 2021 \n",
      "TO 2022\n",
      "From 2021 to 2022, uninsured rates \n",
      "decreased across 27 states, while \n",
      "only Maine had an increase. The \n",
      "uninsured rate in Maine increased \n",
      "from 5.7 percent to 6.6 percent, \n",
      "although it remained below the \n",
      "national average. Maine’s uninsured \n",
      "rate was still below 8.0 percent, \n",
      "21 Douglas Conway and Breauna Branch, \n",
      "“Health Insurance Coverage Status and Type \n",
      "by Geography: 2019 and 2021,” 2022, <www.\n",
      "census.gov/content/dam/Census/library/\n",
      "publications/2022/acs/acsbr-013.pdf>.\n",
      "\n",
      "10 U.S. Census Bureau\n",
      "SUMMARY\n",
      "The uninsured rate fell in 27 states \n",
      "(mainly states that had expanded \n",
      "Medicaid eligibility), while only \n",
      "Maine had an increase of 0.8 \n",
      "percentage points. Only one state \n",
      "saw a decrease in public coverage \n",
      "(Rhode Island), while seven states \n",
      "experienced decreases in private \n",
      "coverage. As groups, states that \n",
      "expanded Medicaid eligibility saw \n",
      "an increase in public coverage, \n",
      "while states that did not expand \n",
      "Medicaid eligibility saw an increase \n",
      "in private coverage from 2021 to \n",
      "2022, although expansion states \n",
      "had both higher private and public \n",
      "coverage rates than nonexpansion \n",
      "states to start with in both 2021 and \n",
      "2022. Massachusetts had the low-\n",
      "est uninsured rate and Texas had \n",
      "the highest in 2022.37 In 2022, Utah \n",
      "had the highest private coverage \n",
      "and lowest public coverage rate, \n",
      "while New Mexico had the high-\n",
      "est public coverage and the lowest \n",
      "private coverage rate, consistent \n",
      "37 The uninsured rates in the District\n",
      "\n",
      "library/publications/2022/acs/acsbr-013.pdf>.\n",
      "39 In 2022, the private coverage rates were \n",
      "not statistically different in North Dakota and \n",
      "Utah.\n",
      "Figure /five.tab/period.tab\n",
      "Percentage of Uninsured People for the /two.tab/five.tab Most Populous Metropolitan \n",
      "Areas/colon.tab /two.tab/zero.tab/two.tab/one.tab and /two.tab/zero.tab/two.tab/two.tab\n",
      "(Civilian, noninstitutionalized population) /uni00A0\n",
      "* Denotes a statistically signiﬁcant change between 2021 and 2022 at the 90 percent conﬁdence level.\n",
      "Note: For information on conﬁdentiality protection, sampling error, nonsampling error, and deﬁnitions in the American Community\n",
      "Survey, refer to <https://www2.census.gov/programs-surveys/acs/tech_docs/accuracy/ACS_Accuracy_of_Data_2022.pdf>.\n",
      "Source: U.S. Census Bureau, 2021 and 2022 American Community Survey, 1-year estimates.\n",
      " Boston-Cambridge-Newton/comma.tab MA-NH\n",
      "San Francisco-Oakland-Berkeley/comma.tab CA\n",
      "*Detroit-Warren-Dearborn/comma.tab MI\n",
      "\n",
      "decreases (1.8 percentage points) \n",
      "in the uninsured rate from 2021 to \n",
      "2022, which is consistent with the \n",
      "decrease in the uninsured rates \n",
      "in both South Carolina and North \n",
      "Carolina.36 The uninsured rate in 14 \n",
      "metropolitan areas did not statisti-\n",
      "cally change between 2021 and \n",
      "2022.\n",
      "34 These most populous metropolitan \n",
      "areas had the highest uninsured rates in \n",
      "2022 and 2021. Refer to <www.census.\n",
      "gov/content/dam/Census/library/\n",
      "publications/2022/acs/acsbr-013.pdf>.\n",
      "35 When comparing metropolitan areas \n",
      "from 2021 to 2022, we used the 25 most \n",
      "populous metropolitan areas in 2022 as \n",
      "the basis for comparison. However, none of \n",
      "the 25 most populous metropolitan areas \n",
      "changed from 2021 to 2022; only the order \n",
      "of their population ranking within the 25 \n",
      "metro areas did.\n",
      "36 The changes in the uninsured \n",
      "rates from 2021 to 2022 in Dallas-Fort \n",
      "Worth-Arlington, TX (1.0 percentage \n",
      "points); Denver-Aurora-Lakewood, CO \n",
      "(1.4 percentage points); Houston-The\n",
      "Question:DIFFERENCES IN THE\n",
      "UNINSURED RATE BY STATE\n",
      "IN 2022\n",
      "\n",
      "Helpful Answers:\n",
      " \n",
      "1. The uninsured rate in the District\n",
      "                                                                                                                                                                                                                                                                                                                                                                                                                                                                                                                      \n"
     ]
    }
   ],
   "source": [
    "# Call the QA chain with our query.\n",
    "docs = retriever.invoke(query)\n",
    "\n",
    "if not docs:\n",
    "    print(\"No relevant documents found. Try a different query.\")\n",
    "else:\n",
    "    result = qa_chain.invoke({\"query\": query})\n",
    "    print(result[\"result\"])"
   ]
  }
 ],
 "metadata": {
  "kernelspec": {
   "display_name": "venv",
   "language": "python",
   "name": "python3"
  },
  "language_info": {
   "codemirror_mode": {
    "name": "ipython",
    "version": 3
   },
   "file_extension": ".py",
   "mimetype": "text/x-python",
   "name": "python",
   "nbconvert_exporter": "python",
   "pygments_lexer": "ipython3",
   "version": "3.11.9"
  }
 },
 "nbformat": 4,
 "nbformat_minor": 2
}
